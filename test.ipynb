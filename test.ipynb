{
 "cells": [
  {
   "cell_type": "code",
   "execution_count": 1,
   "metadata": {},
   "outputs": [],
   "source": [
    "import csv\n",
    "import numpy as np\n",
    "import pandas as pd\n",
    "import GPy\n",
    "import seaborn as sns\n",
    "sns.set_style('white')\n",
    "sns.set_context('talk')\n",
    "import pickle"
   ]
  },
  {
   "cell_type": "code",
   "execution_count": 4,
   "metadata": {},
   "outputs": [
    {
     "name": "stdout",
     "output_type": "stream",
     "text": [
      "Total 26 targets:\n",
      "['AVG_DEMAND_KW_CALCULATED_12', 'NSN_LF59_BLDG-CDW-LOOP_CDW-FLOW', 'NSN_LF59_BLDG-CDW-LOOP_CDW-T-R', 'NSN_LF59_BLDG-CDW-LOOP_CDW-T-S', 'NSN_LF59_COOLING-TOWER_FAN-HI', 'NSN_LF59_COOLING-TOWER_FAN-LO', 'NSN_LF59_COOLING-TOWER_FAN-STAT', 'NSN_LF59_CWP-1-VFD_VFD-SIG', 'NSN_LF59_CWP-1_PMP', 'NSN_LF59_CWP-1_PMP-STAT', 'NSN_LF59_BOILER-1_HW-T-E', 'NSN_LF59_BOILER-1_HW-T-L', 'NSN_LF59_PWSHP-2_CLG-COIL-T', 'NSN_LF59_PWSHP-2_OA-FLOW', 'NSN_LF59_PWSHP-2_SA-T', 'NSN_LF59_PWSHP-2_SA-T-STPT', 'NSN_LF59_WSHP-01_DA-T', 'NSN_LF59_WSHP-01_LW-T', 'NSN_LF59_WSHP-01_ZN-STPT-CL-EFF', 'NSN_LF59_WSHP-01_ZN-STPT-HT-EFF', 'NSN_LF59_WSHP-01_ZN-T', 'NSN_LF59_WSHP-12_DA-T', 'NSN_LF59_WSHP-12_LW-T', 'NSN_LF59_WSHP-12_ZN-STPT-CL-EFF', 'NSN_LF59_WSHP-12_ZN-STPT-HT-EFF', 'NSN_LF59_WSHP-12_ZN-T']\n"
     ]
    }
   ],
   "source": [
    "with open('targets.csv') as f:\n",
    "    reader = csv.reader(f)\n",
    "    targets_all = next(reader)\n",
    "    \n",
    "print('Total '+str(len(targets_all))+' targets:')\n",
    "print(targets_all)"
   ]
  },
  {
   "cell_type": "code",
   "execution_count": 10,
   "metadata": {},
   "outputs": [
    {
     "name": "stdout",
     "output_type": "stream",
     "text": [
      "Target: NSN_LF59_BLDG-CDW-LOOP_CDW-T-R\n"
     ]
    }
   ],
   "source": [
    "path_to_data = './data/'\n",
    "year = '2020'\n",
    "# targets = targets_all\n",
    "# targets = ['AVG_DEMAND_KW_CALCULATED_12','NSN_LF59_BLDG-CDW-LOOP_CDW-FLOW','NSN_LF59_BLDG-CDW-LOOP_CDW-T-R','NSN_LF59_BLDG-CDW-LOOP_CDW-T-S','NSN_LF59_COOLING-TOWER_FAN-HI','NSN_LF59_COOLING-TOWER_FAN-LO','NSN_LF59_COOLING-TOWER_FAN-STAT','NSN_LF59_CWP-1-VFD_VFD-SIG','NSN_LF59_CWP-1_PMP','NSN_LF59_CWP-1_PMP-STAT','NSN_LF59_BOILER-1_HW-T-E','NSN_LF59_BOILER-1_HW-T-L','NSN_LF59_PWSHP-2_CLG-COIL-T','NSN_LF59_PWSHP-2_OA-FLOW','NSN_LF59_PWSHP-2_SA-T','NSN_LF59_PWSHP-2_SA-T-STPT','NSN_LF59_WSHP-01_DA-T','NSN_LF59_WSHP-01_LW-T','NSN_LF59_WSHP-01_ZN-STPT-CL-EFF','NSN_LF59_WSHP-01_ZN-STPT-HT-EFF','NSN_LF59_WSHP-01_ZN-T','NSN_LF59_WSHP-12_DA-T','NSN_LF59_WSHP-12_LW-T','NSN_LF59_WSHP-12_ZN-STPT-CL-EFF','NSN_LF59_WSHP-12_ZN-STPT-HT-EFF','NSN_LF59_WSHP-12_ZN-T','NSN_LF59_BuildingKWhdSum','NSN_LF59_BuildingKWHdSumAnnualized']\n",
    "targets = [targets_all[2]]\n",
    "for target in targets:\n",
    "    print('Target: '+target)\n",
    "\n",
    "datafilename = 'train_data_'+year+'.csv'\n",
    "data = pd.read_csv(path_to_data+datafilename)\n",
    "\n",
    "X = np.vstack((data.index.to_numpy(), data['HOD'].to_numpy(), data['Environment:Site Outdoor Air Drybulb Temperature [C](TimeStep)'].to_numpy())).T\n",
    "X[:,0] = X[:,0] / 35040.0\n",
    "X[:,1] = X[:,1] / 24.0\n",
    "X[:,2] = (X[:,2]+20.0) / 60.0\n",
    "\n",
    "x_train = X"
   ]
  },
  {
   "cell_type": "code",
   "execution_count": 11,
   "metadata": {},
   "outputs": [
    {
     "name": "stdout",
     "output_type": "stream",
     "text": [
      "Working on NSN_LF59_BLDG-CDW-LOOP_CDW-T-R...\n",
      "(16580, 3)\n",
      "(16580, 1)\n",
      "\n",
      "Name : GP regression\n",
      "Objective : 1407068.4773158664\n",
      "Number of Parameters : 5\n",
      "Number of Optimization Parameters : 5\n",
      "Updates : True\n",
      "Parameters:\n",
      "  \u001b[1mGP_regression.         \u001b[0;0m  |  value  |  constraints  |  priors\n",
      "  \u001b[1mrbf.variance           \u001b[0;0m  |    1.0  |      +ve      |        \n",
      "  \u001b[1mrbf.lengthscale        \u001b[0;0m  |   (3,)  |      +ve      |        \n",
      "  \u001b[1mGaussian_noise.variance\u001b[0;0m  |    1.0  |      +ve      |        \n",
      "Warning - optimization restart 1/10 failed\n",
      "Warning - optimization restart 2/10 failed\n",
      "Warning - optimization restart 3/10 failed\n",
      "Warning - optimization restart 4/10 failed\n",
      "Warning - optimization restart 5/10 failed\n",
      "Warning - optimization restart 6/10 failed\n",
      "Warning - optimization restart 7/10 failed\n",
      "Warning - optimization restart 8/10 failed\n",
      "Warning - optimization restart 9/10 failed\n"
     ]
    }
   ],
   "source": [
    "for target in targets:\n",
    "    print('Working on ' + target + '...')\n",
    "    y_train = data[target].to_numpy()\n",
    "    y_train = y_train[:, None]\n",
    "    print(x_train.shape)\n",
    "    print(y_train.shape)\n",
    "    k = GPy.kern.RBF(x_train.shape[1], ARD=True) # The ARD = True is what makes GPy understand that there is\n",
    "                                # one lengthscale per dimension\n",
    "    m = GPy.models.GPRegression(x_train, y_train, k)\n",
    "    print(m)\n",
    "\n",
    "    m.optimize_restarts( robust=True )\n",
    "    print(m)\n",
    "    print(m.rbf.lengthscale)\n",
    "\n",
    "    with open('./model/'+target+'.pkl', 'wb') as file:\n",
    "        pickle.dump(m, file)\n",
    "\n",
    "    print('Model for ' + target + ' Complete!')"
   ]
  },
  {
   "cell_type": "code",
   "execution_count": null,
   "metadata": {},
   "outputs": [],
   "source": []
  }
 ],
 "metadata": {
  "interpreter": {
   "hash": "22d0451c425ea3e2ce0d674915a8b6b0e3c5c00b771c6523ebafb647fe2c9fe3"
  },
  "kernelspec": {
   "display_name": "Python 3",
   "language": "python",
   "name": "python3"
  },
  "language_info": {
   "codemirror_mode": {
    "name": "ipython",
    "version": 3
   },
   "file_extension": ".py",
   "mimetype": "text/x-python",
   "name": "python",
   "nbconvert_exporter": "python",
   "pygments_lexer": "ipython3",
   "version": "3.7.4"
  }
 },
 "nbformat": 4,
 "nbformat_minor": 2
}
