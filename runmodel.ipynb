{
 "cells": [
  {
   "cell_type": "code",
   "execution_count": 1,
   "metadata": {},
   "outputs": [
    {
     "name": "stderr",
     "output_type": "stream",
     "text": [
      "WARNING (theano.tensor.blas): Using NumPy C-API based implementation for BLAS functions.\n"
     ]
    }
   ],
   "source": [
    "import model as m\n",
    "import csv\n",
    "#import arviz as az\n",
    "import matplotlib.pyplot as plt\n",
    "import numpy as np\n",
    "import pandas as pd\n",
    "import pymc3 as pm\n",
    "import seaborn as sns\n",
    "sns.set_style('white')\n",
    "sns.set_context('talk')\n",
    "#import pickle\n",
    "#import theano\n",
    "#import theano.tensor as T\n",
    "from scipy import stats\n",
    "#from sklearn import datasets\n",
    "#from sklearn.model_selection import train_test_split\n",
    "#from sklearn.preprocessing import scale"
   ]
  },
  {
   "cell_type": "code",
   "execution_count": 2,
   "metadata": {},
   "outputs": [
    {
     "name": "stdout",
     "output_type": "stream",
     "text": [
      "Total 26 targets:\n",
      "['AVG_DEMAND_KW_CALCULATED_12', 'NSN_LF59_BLDG-CDW-LOOP_CDW-FLOW', 'NSN_LF59_BLDG-CDW-LOOP_CDW-T-R', 'NSN_LF59_BLDG-CDW-LOOP_CDW-T-S', 'NSN_LF59_COOLING-TOWER_FAN-HI', 'NSN_LF59_COOLING-TOWER_FAN-LO', 'NSN_LF59_COOLING-TOWER_FAN-STAT', 'NSN_LF59_CWP-1-VFD_VFD-SIG', 'NSN_LF59_CWP-1_PMP', 'NSN_LF59_CWP-1_PMP-STAT', 'NSN_LF59_BOILER-1_HW-T-E', 'NSN_LF59_BOILER-1_HW-T-L', 'NSN_LF59_PWSHP-2_CLG-COIL-T', 'NSN_LF59_PWSHP-2_OA-FLOW', 'NSN_LF59_PWSHP-2_SA-T', 'NSN_LF59_PWSHP-2_SA-T-STPT', 'NSN_LF59_WSHP-01_DA-T', 'NSN_LF59_WSHP-01_LW-T', 'NSN_LF59_WSHP-01_ZN-STPT-CL-EFF', 'NSN_LF59_WSHP-01_ZN-STPT-HT-EFF', 'NSN_LF59_WSHP-01_ZN-T', 'NSN_LF59_WSHP-12_DA-T', 'NSN_LF59_WSHP-12_LW-T', 'NSN_LF59_WSHP-12_ZN-STPT-CL-EFF', 'NSN_LF59_WSHP-12_ZN-STPT-HT-EFF', 'NSN_LF59_WSHP-12_ZN-T']\n"
     ]
    }
   ],
   "source": [
    "with open('targets.csv') as f:\n",
    "    reader = csv.reader(f)\n",
    "    targets_all = next(reader)\n",
    "    \n",
    "print('Total '+str(len(targets_all))+' targets:')\n",
    "print(targets_all)"
   ]
  },
  {
   "cell_type": "code",
   "execution_count": 3,
   "metadata": {},
   "outputs": [
    {
     "name": "stdout",
     "output_type": "stream",
     "text": [
      "Target: NSN_LF59_COOLING-TOWER_FAN-STAT\n"
     ]
    }
   ],
   "source": [
    "path_to_data = './data/'\n",
    "year = '2020'\n",
    "# targets = targets_all\n",
    "# targets = ['AVG_DEMAND_KW_CALCULATED_12','NSN_LF59_BLDG-CDW-LOOP_CDW-FLOW','NSN_LF59_BLDG-CDW-LOOP_CDW-T-R','NSN_LF59_BLDG-CDW-LOOP_CDW-T-S','NSN_LF59_COOLING-TOWER_FAN-HI','NSN_LF59_COOLING-TOWER_FAN-LO','NSN_LF59_COOLING-TOWER_FAN-STAT','NSN_LF59_CWP-1-VFD_VFD-SIG','NSN_LF59_CWP-1_PMP','NSN_LF59_CWP-1_PMP-STAT','NSN_LF59_BOILER-1_HW-T-E','NSN_LF59_BOILER-1_HW-T-L','NSN_LF59_PWSHP-2_CLG-COIL-T','NSN_LF59_PWSHP-2_OA-FLOW','NSN_LF59_PWSHP-2_SA-T','NSN_LF59_PWSHP-2_SA-T-STPT','NSN_LF59_WSHP-01_DA-T','NSN_LF59_WSHP-01_LW-T','NSN_LF59_WSHP-01_ZN-STPT-CL-EFF','NSN_LF59_WSHP-01_ZN-STPT-HT-EFF','NSN_LF59_WSHP-01_ZN-T','NSN_LF59_WSHP-12_DA-T','NSN_LF59_WSHP-12_LW-T','NSN_LF59_WSHP-12_ZN-STPT-CL-EFF','NSN_LF59_WSHP-12_ZN-STPT-HT-EFF','NSN_LF59_WSHP-12_ZN-T','NSN_LF59_BuildingKWhdSum','NSN_LF59_BuildingKWHdSumAnnualized']\n",
    "# targets = [targets_all[0]]\n",
    "targets = ['NSN_LF59_COOLING-TOWER_FAN-STAT']\n",
    "for target in targets:\n",
    "    print('Target: '+target)\n",
    "\n",
    "datafilename = 'train_data_'+year+'.csv'\n",
    "data = pd.read_csv(path_to_data+datafilename)\n",
    "\n",
    "X = np.vstack((data.index.to_numpy(), data['HOD'].to_numpy(), data['Environment:Site Outdoor Air Drybulb Temperature [C](TimeStep)'].to_numpy())).T\n",
    "X[:,0] = X[:,0] / 35040.0\n",
    "X[:,1] = X[:,1] / 24.0\n",
    "X[:,2] = (X[:,2]+20.0) / 60.0\n",
    "\n",
    "x_train = X"
   ]
  },
  {
   "cell_type": "code",
   "execution_count": 4,
   "metadata": {},
   "outputs": [
    {
     "name": "stdout",
     "output_type": "stream",
     "text": [
      "Binary target does not normalization.\n",
      "(16580, 3)\n",
      "(16580, 1)\n",
      "Working on NSN_LF59_COOLING-TOWER_FAN-STAT...\n"
     ]
    },
    {
     "data": {
      "text/html": [
       "\n",
       "<style>\n",
       "    /* Turns off some styling */\n",
       "    progress {\n",
       "        /* gets rid of default border in Firefox and Opera. */\n",
       "        border: none;\n",
       "        /* Needs to be in here for Safari polyfill so background images work as expected. */\n",
       "        background-size: auto;\n",
       "    }\n",
       "    .progress-bar-interrupted, .progress-bar-interrupted::-webkit-progress-bar {\n",
       "        background: #F44336;\n",
       "    }\n",
       "</style>\n"
      ],
      "text/plain": [
       "<IPython.core.display.HTML object>"
      ]
     },
     "metadata": {},
     "output_type": "display_data"
    },
    {
     "data": {
      "text/html": [
       "\n",
       "    <div>\n",
       "      <progress value='3000' class='' max='3000' style='width:300px; height:20px; vertical-align: middle;'></progress>\n",
       "      100.00% [3000/3000 8:17:29<00:00 Average Loss = 1.7761e+08]\n",
       "    </div>\n",
       "    "
      ],
      "text/plain": [
       "<IPython.core.display.HTML object>"
      ]
     },
     "metadata": {},
     "output_type": "display_data"
    },
    {
     "name": "stderr",
     "output_type": "stream",
     "text": [
      "Finished [100%]: Average Loss = 1.7757e+08\n"
     ]
    },
    {
     "name": "stdout",
     "output_type": "stream",
     "text": [
      "Model for NSN_LF59_COOLING-TOWER_FAN-STAT Complete!\n"
     ]
    },
    {
     "data": {
      "image/png": "[encoded data removed]",
      "text/plain": [
       "<Figure size 432x288 with 1 Axes>"
      ]
     },
     "metadata": {},
     "output_type": "display_data"
    }
   ],
   "source": [
    "### training\n",
    "\n",
    "model_exist = False\n",
    "\n",
    "for target in targets:\n",
    "\n",
    "    if target in ['AVG_DEMAND_KW_CALCULATED_12','NSN_LF59_BLDG-CDW-LOOP_CDW-FLOW','NSN_LF59_BLDG-CDW-LOOP_CDW-T-R','NSN_LF59_BLDG-CDW-LOOP_CDW-T-S','NSN_LF59_CWP-1-VFD_VFD-SIG','NSN_LF59_BOILER-1_HW-T-E','NSN_LF59_BOILER-1_HW-T-L','NSN_LF59_PWSHP-2_CLG-COIL-T','NSN_LF59_PWSHP-2_OA-FLOW','NSN_LF59_PWSHP-2_SA-T','NSN_LF59_PWSHP-2_SA-T-STPT','NSN_LF59_WSHP-01_DA-T','NSN_LF59_WSHP-01_LW-T','NSN_LF59_WSHP-01_ZN-STPT-CL-EFF','NSN_LF59_WSHP-01_ZN-STPT-HT-EFF','NSN_LF59_WSHP-01_ZN-T','NSN_LF59_WSHP-12_DA-T','NSN_LF59_WSHP-12_LW-T','NSN_LF59_WSHP-12_ZN-STPT-CL-EFF','NSN_LF59_WSHP-12_ZN-STPT-HT-EFF','NSN_LF59_WSHP-12_ZN-T']:\n",
    "        tardis = 'Normal'\n",
    "    elif target in ['NSN_LF59_COOLING-TOWER_FAN-HI','NSN_LF59_COOLING-TOWER_FAN-LO','NSN_LF59_COOLING-TOWER_FAN-STAT','NSN_LF59_CWP-1_PMP','NSN_LF59_CWP-1_PMP-STAT']:\n",
    "        tardis = 'Bernoulli'\n",
    "    \n",
    "    y_train = data[target].to_numpy()\n",
    "    if tardis=='Normal':\n",
    "        scale_mean = np.mean(y_train)\n",
    "        scale_std = np.std(y_train)\n",
    "        print('Normalizing target with mean: ' + str(scale_mean) + ' and std: ' + str(scale_std))\n",
    "        y_train = (y_train - np.mean(y_train)) / np.std(y_train)\n",
    "    elif tardis == 'Bernoulli':\n",
    "        print('Binary target does not normalization.')\n",
    "    y_train = y_train[:, None]\n",
    "    print(x_train.shape)\n",
    "    print(y_train.shape)\n",
    "\n",
    "    x_p = x_train[:,0] * 35040.0\n",
    "    plt.figure()\n",
    "    plt.plot(x_p, y_train, '.b', alpha=0.01)\n",
    "\n",
    "    if model_exist == False:\n",
    "        trace= m.train_model(target=target, x_train=x_train, y_train=y_train, tardis=tardis)\n"
   ]
  },
  {
   "cell_type": "code",
   "execution_count": 5,
   "metadata": {},
   "outputs": [
    {
     "data": {
      "text/html": [
       "\n",
       "<style>\n",
       "    /* Turns off some styling */\n",
       "    progress {\n",
       "        /* gets rid of default border in Firefox and Opera. */\n",
       "        border: none;\n",
       "        /* Needs to be in here for Safari polyfill so background images work as expected. */\n",
       "        background-size: auto;\n",
       "    }\n",
       "    .progress-bar-interrupted, .progress-bar-interrupted::-webkit-progress-bar {\n",
       "        background: #F44336;\n",
       "    }\n",
       "</style>\n"
      ],
      "text/plain": [
       "<IPython.core.display.HTML object>"
      ]
     },
     "metadata": {},
     "output_type": "display_data"
    },
    {
     "data": {
      "text/html": [
       "\n",
       "    <div>\n",
       "      <progress value='1000' class='' max='1000' style='width:300px; height:20px; vertical-align: middle;'></progress>\n",
       "      100.00% [1000/1000 00:18<00:00]\n",
       "    </div>\n",
       "    "
      ],
      "text/plain": [
       "<IPython.core.display.HTML object>"
      ]
     },
     "metadata": {},
     "output_type": "display_data"
    },
    {
     "name": "stdout",
     "output_type": "stream",
     "text": [
      "(1000, 35039)\n",
      "(35039, 1)\n"
     ]
    },
    {
     "data": {
      "image/png": "[encoded data removed]",
      "text/plain": [
       "<Figure size 432x288 with 1 Axes>"
      ]
     },
     "metadata": {},
     "output_type": "display_data"
    }
   ],
   "source": [
    "### predicting\n",
    "\n",
    "x_test = pd.read_csv(path_to_data+'test_x.csv').to_numpy()\n",
    "x_test[:,0] = x_test[:,0] / 35040.0\n",
    "x_test[:,1] = x_test[:,1] / 24.0\n",
    "x_test[:,2] = (x_test[:,2]+20.0) / 60.0\n",
    "x_ind = x_test[:,0] * 35040.0\n",
    "\n",
    "for target in targets:\n",
    "    if target in ['AVG_DEMAND_KW_CALCULATED_12','NSN_LF59_BLDG-CDW-LOOP_CDW-FLOW','NSN_LF59_BLDG-CDW-LOOP_CDW-T-R','NSN_LF59_BLDG-CDW-LOOP_CDW-T-S','NSN_LF59_CWP-1-VFD_VFD-SIG','NSN_LF59_BOILER-1_HW-T-E','NSN_LF59_BOILER-1_HW-T-L','NSN_LF59_PWSHP-2_CLG-COIL-T','NSN_LF59_PWSHP-2_OA-FLOW','NSN_LF59_PWSHP-2_SA-T','NSN_LF59_PWSHP-2_SA-T-STPT','NSN_LF59_WSHP-01_DA-T','NSN_LF59_WSHP-01_LW-T','NSN_LF59_WSHP-01_ZN-STPT-CL-EFF','NSN_LF59_WSHP-01_ZN-STPT-HT-EFF','NSN_LF59_WSHP-01_ZN-T','NSN_LF59_WSHP-12_DA-T','NSN_LF59_WSHP-12_LW-T','NSN_LF59_WSHP-12_ZN-STPT-CL-EFF','NSN_LF59_WSHP-12_ZN-STPT-HT-EFF','NSN_LF59_WSHP-12_ZN-T']:\n",
    "        tardis = 'Normal'\n",
    "    elif target in ['NSN_LF59_COOLING-TOWER_FAN-HI','NSN_LF59_COOLING-TOWER_FAN-LO','NSN_LF59_COOLING-TOWER_FAN-STAT','NSN_LF59_CWP-1_PMP','NSN_LF59_CWP-1_PMP-STAT']:\n",
    "        tardis = 'Bernoulli'\n",
    "        \n",
    "    with m.construct_nn(X=x_test, Y=True, tardis=tardis) as test_model:\n",
    "        if model_exist == True:\n",
    "            trace = pm.load_trace(directory= './model/'+target)\n",
    "        ppc = pm.sample_posterior_predictive(trace)\n",
    "        pred_sample = ppc['out']\n",
    "\n",
    "    print(pred_sample.shape)\n",
    "    if tardis == 'Normal':\n",
    "        pred_sample = pred_sample * scale_std + scale_mean\n",
    "        pred = np.median(pred_sample, axis=0)\n",
    "    elif tardis == 'Bernoulli':\n",
    "        pred, count_pred = stats.mode(pred_sample)\n",
    "        pred = pred.T\n",
    "        \n",
    "    print(pred.shape)    \n",
    "    plt.figure()\n",
    "    plt.plot(x_ind, pred, '.b', alpha=0.01)\n",
    "\n",
    "    pred_data = pd.DataFrame(data=pred, index=x_ind, columns=[target])\n",
    "    pred_data.to_csv('./pred/'+target+'.csv')\n"
   ]
  },
  {
   "cell_type": "code",
   "execution_count": null,
   "metadata": {},
   "outputs": [],
   "source": [
    "\n"
   ]
  },
  {
   "cell_type": "code",
   "execution_count": null,
   "metadata": {},
   "outputs": [],
   "source": []
  }
 ],
 "metadata": {
  "interpreter": {
   "hash": "22d0451c425ea3e2ce0d674915a8b6b0e3c5c00b771c6523ebafb647fe2c9fe3"
  },
  "kernelspec": {
   "display_name": "Python 3",
   "language": "python",
   "name": "python3"
  },
  "language_info": {
   "codemirror_mode": {
    "name": "ipython",
    "version": 3
   },
   "file_extension": ".py",
   "mimetype": "text/x-python",
   "name": "python",
   "nbconvert_exporter": "python",
   "pygments_lexer": "ipython3",
   "version": "3.10.2"
  }
 },
 "nbformat": 4,
 "nbformat_minor": 2
}
